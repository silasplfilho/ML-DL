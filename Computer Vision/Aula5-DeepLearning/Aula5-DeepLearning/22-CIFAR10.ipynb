{
 "cells": [
  {
   "cell_type": "markdown",
   "metadata": {},
   "source": [
    "# CIFAR-10 \n",
    "\n",
    "O dataset CIFAR-10 consiste em 10 tipos de imagens diferentes, ou classes"
   ]
  },
  {
   "cell_type": "markdown",
   "metadata": {},
   "source": [
    "-----"
   ]
  },
  {
   "cell_type": "markdown",
   "metadata": {},
   "source": [
    "# Dados\n",
    "\n",
    "O CIFAR-10 é um dataset composto por 50K imagens de 32x32, coloridas, rotuladas em 10 categorias e 10K imagens teste."
   ]
  },
  {
   "cell_type": "code",
   "execution_count": 3,
   "metadata": {},
   "outputs": [
    {
     "name": "stderr",
     "output_type": "stream",
     "text": [
      "Using TensorFlow backend.\n"
     ]
    }
   ],
   "source": [
    "#Suprimir Warnings \n",
    "import warnings\n",
    "warnings.filterwarnings('ignore')\n",
    "from keras.datasets import cifar10\n",
    "\n",
    "(x_treina, y_treina), (x_teste, y_teste) = cifar10.load_data()"
   ]
  },
  {
   "cell_type": "code",
   "execution_count": 4,
   "metadata": {},
   "outputs": [
    {
     "data": {
      "text/plain": [
       "(50000, 32, 32, 3)"
      ]
     },
     "execution_count": 4,
     "metadata": {},
     "output_type": "execute_result"
    }
   ],
   "source": [
    "x_treina.shape"
   ]
  },
  {
   "cell_type": "code",
   "execution_count": 5,
   "metadata": {},
   "outputs": [
    {
     "data": {
      "text/plain": [
       "(32, 32, 3)"
      ]
     },
     "execution_count": 5,
     "metadata": {},
     "output_type": "execute_result"
    }
   ],
   "source": [
    "x_treina[0].shape"
   ]
  },
  {
   "cell_type": "code",
   "execution_count": 6,
   "metadata": {},
   "outputs": [],
   "source": [
    "import matplotlib.pyplot as plt"
   ]
  },
  {
   "cell_type": "code",
   "execution_count": 7,
   "metadata": {},
   "outputs": [
    {
     "data": {
      "text/plain": [
       "<matplotlib.image.AxesImage at 0x7fd585ae3a90>"
      ]
     },
     "execution_count": 7,
     "metadata": {},
     "output_type": "execute_result"
    },
    {
     "data": {
      "image/png": "[encoded data removed]",
      "text/plain": [
       "<Figure size 432x288 with 1 Axes>"
      ]
     },
     "metadata": {
      "needs_background": "light"
     },
     "output_type": "display_data"
    }
   ],
   "source": [
    "# SAPO - FROG\n",
    "plt.imshow(x_treina[0])"
   ]
  },
  {
   "cell_type": "code",
   "execution_count": 8,
   "metadata": {},
   "outputs": [
    {
     "data": {
      "text/plain": [
       "<matplotlib.image.AxesImage at 0x7fd585a80f98>"
      ]
     },
     "execution_count": 8,
     "metadata": {},
     "output_type": "execute_result"
    },
    {
     "data": {
      "image/png": "[encoded data removed]",
      "text/plain": [
       "<Figure size 432x288 with 1 Axes>"
      ]
     },
     "metadata": {
      "needs_background": "light"
     },
     "output_type": "display_data"
    }
   ],
   "source": [
    "# BARCO - SHIP\n",
    "plt.imshow(x_treina[100])"
   ]
  },
  {
   "cell_type": "markdown",
   "metadata": {},
   "source": [
    "# Pré-Processamento"
   ]
  },
  {
   "cell_type": "code",
   "execution_count": 9,
   "metadata": {},
   "outputs": [
    {
     "data": {
      "text/plain": [
       "array([[[ 59,  62,  63],\n",
       "        [ 43,  46,  45],\n",
       "        [ 50,  48,  43],\n",
       "        ...,\n",
       "        [158, 132, 108],\n",
       "        [152, 125, 102],\n",
       "        [148, 124, 103]],\n",
       "\n",
       "       [[ 16,  20,  20],\n",
       "        [  0,   0,   0],\n",
       "        [ 18,   8,   0],\n",
       "        ...,\n",
       "        [123,  88,  55],\n",
       "        [119,  83,  50],\n",
       "        [122,  87,  57]],\n",
       "\n",
       "       [[ 25,  24,  21],\n",
       "        [ 16,   7,   0],\n",
       "        [ 49,  27,   8],\n",
       "        ...,\n",
       "        [118,  84,  50],\n",
       "        [120,  84,  50],\n",
       "        [109,  73,  42]],\n",
       "\n",
       "       ...,\n",
       "\n",
       "       [[208, 170,  96],\n",
       "        [201, 153,  34],\n",
       "        [198, 161,  26],\n",
       "        ...,\n",
       "        [160, 133,  70],\n",
       "        [ 56,  31,   7],\n",
       "        [ 53,  34,  20]],\n",
       "\n",
       "       [[180, 139,  96],\n",
       "        [173, 123,  42],\n",
       "        [186, 144,  30],\n",
       "        ...,\n",
       "        [184, 148,  94],\n",
       "        [ 97,  62,  34],\n",
       "        [ 83,  53,  34]],\n",
       "\n",
       "       [[177, 144, 116],\n",
       "        [168, 129,  94],\n",
       "        [179, 142,  87],\n",
       "        ...,\n",
       "        [216, 184, 140],\n",
       "        [151, 118,  84],\n",
       "        [123,  92,  72]]], dtype=uint8)"
      ]
     },
     "execution_count": 9,
     "metadata": {},
     "output_type": "execute_result"
    }
   ],
   "source": [
    "x_treina[0]"
   ]
  },
  {
   "cell_type": "code",
   "execution_count": 10,
   "metadata": {},
   "outputs": [
    {
     "data": {
      "text/plain": [
       "(32, 32, 3)"
      ]
     },
     "execution_count": 10,
     "metadata": {},
     "output_type": "execute_result"
    }
   ],
   "source": [
    "x_treina[0].shape"
   ]
  },
  {
   "cell_type": "code",
   "execution_count": 11,
   "metadata": {},
   "outputs": [
    {
     "data": {
      "text/plain": [
       "255"
      ]
     },
     "execution_count": 11,
     "metadata": {},
     "output_type": "execute_result"
    }
   ],
   "source": [
    "x_treina.max()"
   ]
  },
  {
   "cell_type": "code",
   "execution_count": null,
   "metadata": {},
   "outputs": [],
   "source": [
    "x_treina = x_treina/225"
   ]
  },
  {
   "cell_type": "code",
   "execution_count": null,
   "metadata": {},
   "outputs": [],
   "source": [
    "x_teste = x_teste/255"
   ]
  },
  {
   "cell_type": "code",
   "execution_count": 12,
   "metadata": {},
   "outputs": [
    {
     "data": {
      "text/plain": [
       "(50000, 32, 32, 3)"
      ]
     },
     "execution_count": 12,
     "metadata": {},
     "output_type": "execute_result"
    }
   ],
   "source": [
    "x_treina.shape"
   ]
  },
  {
   "cell_type": "code",
   "execution_count": 13,
   "metadata": {},
   "outputs": [
    {
     "data": {
      "text/plain": [
       "(10000, 32, 32, 3)"
      ]
     },
     "execution_count": 13,
     "metadata": {},
     "output_type": "execute_result"
    }
   ],
   "source": [
    "x_teste.shape"
   ]
  },
  {
   "cell_type": "markdown",
   "metadata": {},
   "source": [
    "## Labels"
   ]
  },
  {
   "cell_type": "code",
   "execution_count": 14,
   "metadata": {},
   "outputs": [],
   "source": [
    "from keras.utils import to_categorical"
   ]
  },
  {
   "cell_type": "code",
   "execution_count": 15,
   "metadata": {},
   "outputs": [
    {
     "data": {
      "text/plain": [
       "(50000, 1)"
      ]
     },
     "execution_count": 15,
     "metadata": {},
     "output_type": "execute_result"
    }
   ],
   "source": [
    "y_treina.shape"
   ]
  },
  {
   "cell_type": "code",
   "execution_count": 16,
   "metadata": {},
   "outputs": [
    {
     "data": {
      "text/plain": [
       "array([6], dtype=uint8)"
      ]
     },
     "execution_count": 16,
     "metadata": {},
     "output_type": "execute_result"
    }
   ],
   "source": [
    "y_treina[0]"
   ]
  },
  {
   "cell_type": "code",
   "execution_count": 17,
   "metadata": {},
   "outputs": [],
   "source": [
    "y_cat_treina = to_categorical(y_treina,10)"
   ]
  },
  {
   "cell_type": "code",
   "execution_count": 18,
   "metadata": {},
   "outputs": [
    {
     "data": {
      "text/plain": [
       "(50000, 10)"
      ]
     },
     "execution_count": 18,
     "metadata": {},
     "output_type": "execute_result"
    }
   ],
   "source": [
    "y_cat_treina.shape"
   ]
  },
  {
   "cell_type": "code",
   "execution_count": 19,
   "metadata": {},
   "outputs": [
    {
     "data": {
      "text/plain": [
       "array([0., 0., 0., 0., 0., 0., 1., 0., 0., 0.], dtype=float32)"
      ]
     },
     "execution_count": 19,
     "metadata": {},
     "output_type": "execute_result"
    }
   ],
   "source": [
    "y_cat_treina[0]"
   ]
  },
  {
   "cell_type": "code",
   "execution_count": 20,
   "metadata": {},
   "outputs": [],
   "source": [
    "y_cat_teste = to_categorical(y_teste,10)"
   ]
  },
  {
   "cell_type": "markdown",
   "metadata": {},
   "source": [
    "----------\n",
    "# Criando o Modelo"
   ]
  },
  {
   "cell_type": "code",
   "execution_count": 21,
   "metadata": {},
   "outputs": [],
   "source": [
    "from keras.models import Sequential\n",
    "from keras.layers import Dense, Conv2D, MaxPool2D, Flatten"
   ]
  },
  {
   "cell_type": "code",
   "execution_count": 22,
   "metadata": {},
   "outputs": [
    {
     "name": "stderr",
     "output_type": "stream",
     "text": [
      "WARNING: Logging before flag parsing goes to stderr.\n",
      "W0826 08:32:08.375045 140419412371200 deprecation_wrapper.py:119] From /home/displace/.local/lib/python3.5/site-packages/keras/backend/tensorflow_backend.py:74: The name tf.get_default_graph is deprecated. Please use tf.compat.v1.get_default_graph instead.\n",
      "\n",
      "W0826 08:32:08.403786 140419412371200 deprecation_wrapper.py:119] From /home/displace/.local/lib/python3.5/site-packages/keras/backend/tensorflow_backend.py:517: The name tf.placeholder is deprecated. Please use tf.compat.v1.placeholder instead.\n",
      "\n",
      "W0826 08:32:08.408069 140419412371200 deprecation_wrapper.py:119] From /home/displace/.local/lib/python3.5/site-packages/keras/backend/tensorflow_backend.py:4138: The name tf.random_uniform is deprecated. Please use tf.random.uniform instead.\n",
      "\n",
      "W0826 08:32:08.431957 140419412371200 deprecation_wrapper.py:119] From /home/displace/.local/lib/python3.5/site-packages/keras/backend/tensorflow_backend.py:3976: The name tf.nn.max_pool is deprecated. Please use tf.nn.max_pool2d instead.\n",
      "\n",
      "W0826 08:32:08.504517 140419412371200 deprecation_wrapper.py:119] From /home/displace/.local/lib/python3.5/site-packages/keras/optimizers.py:790: The name tf.train.Optimizer is deprecated. Please use tf.compat.v1.train.Optimizer instead.\n",
      "\n",
      "W0826 08:32:08.527981 140419412371200 deprecation_wrapper.py:119] From /home/displace/.local/lib/python3.5/site-packages/keras/backend/tensorflow_backend.py:3295: The name tf.log is deprecated. Please use tf.math.log instead.\n",
      "\n"
     ]
    }
   ],
   "source": [
    "modelo = Sequential()\n",
    "\n",
    "## Primeiro conjunto de camadas\n",
    "\n",
    "# CAMADA CONVOLUCIONAL\n",
    "modelo.add(Conv2D(filters=32, kernel_size=(4,4),input_shape=(32, 32, 3), activation='relu',))\n",
    "# CAMADA DE POOLING\n",
    "modelo.add(MaxPool2D(pool_size=(2, 2)))\n",
    "\n",
    "## Segundo conjunto de camadas\n",
    "\n",
    "# CAMADA CONVOLUCIONAL\n",
    "modelo.add(Conv2D(filters=32, kernel_size=(4,4),input_shape=(32, 32, 3), activation='relu',))\n",
    "# CAMADA DE POOLING\n",
    "modelo.add(MaxPool2D(pool_size=(2, 2)))\n",
    "\n",
    "# FLATTENING - 28x28 para 764 ANTES DA ÚLTIMA CAMADA\n",
    "modelo.add(Flatten())\n",
    "\n",
    "# 256 NEURONS NA CAMADA OCULTA\n",
    "modelo.add(Dense(256, activation='relu'))\n",
    "\n",
    "# ÚLTIMA CAMADA É O CLASSIFICADOR, 10 CLASSES\n",
    "modelo.add(Dense(10, activation='softmax'))\n",
    "\n",
    "\n",
    "modelo.compile(loss='categorical_crossentropy',\n",
    "              optimizer='rmsprop',\n",
    "              metrics=['accuracy'])"
   ]
  },
  {
   "cell_type": "code",
   "execution_count": 23,
   "metadata": {},
   "outputs": [
    {
     "name": "stdout",
     "output_type": "stream",
     "text": [
      "_________________________________________________________________\n",
      "Layer (type)                 Output Shape              Param #   \n",
      "=================================================================\n",
      "conv2d_1 (Conv2D)            (None, 29, 29, 32)        1568      \n",
      "_________________________________________________________________\n",
      "max_pooling2d_1 (MaxPooling2 (None, 14, 14, 32)        0         \n",
      "_________________________________________________________________\n",
      "conv2d_2 (Conv2D)            (None, 11, 11, 32)        16416     \n",
      "_________________________________________________________________\n",
      "max_pooling2d_2 (MaxPooling2 (None, 5, 5, 32)          0         \n",
      "_________________________________________________________________\n",
      "flatten_1 (Flatten)          (None, 800)               0         \n",
      "_________________________________________________________________\n",
      "dense_1 (Dense)              (None, 256)               205056    \n",
      "_________________________________________________________________\n",
      "dense_2 (Dense)              (None, 10)                2570      \n",
      "=================================================================\n",
      "Total params: 225,610\n",
      "Trainable params: 225,610\n",
      "Non-trainable params: 0\n",
      "_________________________________________________________________\n"
     ]
    }
   ],
   "source": [
    "modelo.summary()"
   ]
  },
  {
   "cell_type": "code",
   "execution_count": null,
   "metadata": {},
   "outputs": [
    {
     "name": "stderr",
     "output_type": "stream",
     "text": [
      "W0826 08:32:11.066133 140419412371200 deprecation.py:323] From /usr/local/lib/python3.5/dist-packages/tensorflow/python/ops/math_grad.py:1250: add_dispatch_support.<locals>.wrapper (from tensorflow.python.ops.array_ops) is deprecated and will be removed in a future version.\n",
      "Instructions for updating:\n",
      "Use tf.where in 2.0, which has the same broadcast rule as np.where\n",
      "W0826 08:32:11.244840 140419412371200 deprecation_wrapper.py:119] From /home/displace/.local/lib/python3.5/site-packages/keras/backend/tensorflow_backend.py:986: The name tf.assign_add is deprecated. Please use tf.compat.v1.assign_add instead.\n",
      "\n"
     ]
    },
    {
     "name": "stdout",
     "output_type": "stream",
     "text": [
      "Epoch 1/10\n",
      "50000/50000 [==============================] - 45s 902us/step - loss: 1.5105 - acc: 0.4621\n",
      "Epoch 2/10\n",
      "50000/50000 [==============================] - 46s 912us/step - loss: 1.1598 - acc: 0.5960\n",
      "Epoch 3/10\n",
      "50000/50000 [==============================] - 45s 904us/step - loss: 1.0036 - acc: 0.6501\n",
      "Epoch 4/10\n",
      "50000/50000 [==============================] - 46s 911us/step - loss: 0.8943 - acc: 0.6910\n",
      "Epoch 5/10\n",
      "50000/50000 [==============================] - 46s 912us/step - loss: 0.8087 - acc: 0.7222\n",
      "Epoch 6/10\n",
      "50000/50000 [==============================] - 47s 936us/step - loss: 0.7404 - acc: 0.7463\n",
      "Epoch 7/10\n",
      " 7840/50000 [===>..........................] - ETA: 36s - loss: 0.6544 - acc: 0.7733"
     ]
    }
   ],
   "source": [
    "#HORA DO CAFÉ!!\n",
    "modelo.fit(x_treina,y_cat_treina,verbose=1,epochs=10)"
   ]
  },
  {
   "cell_type": "code",
   "execution_count": null,
   "metadata": {},
   "outputs": [],
   "source": [
    "# Descomente e rode para salvar o modelo treinado.\n",
    "# model.save('cifar_10epochs.h5')"
   ]
  },
  {
   "cell_type": "code",
   "execution_count": 27,
   "metadata": {},
   "outputs": [
    {
     "data": {
      "text/plain": [
       "['loss', 'acc']"
      ]
     },
     "execution_count": 27,
     "metadata": {},
     "output_type": "execute_result"
    }
   ],
   "source": [
    "model.metrics_names"
   ]
  },
  {
   "cell_type": "code",
   "execution_count": 29,
   "metadata": {},
   "outputs": [
    {
     "name": "stdout",
     "output_type": "stream",
     "text": [
      "10000/10000 [==============================] - 1s 56us/step\n"
     ]
    },
    {
     "data": {
      "text/plain": [
       "[1.3332478387832642, 0.6444]"
      ]
     },
     "execution_count": 29,
     "metadata": {},
     "output_type": "execute_result"
    }
   ],
   "source": [
    "model.evaluate(x_test,y_cat_test)"
   ]
  },
  {
   "cell_type": "code",
   "execution_count": 30,
   "metadata": {},
   "outputs": [],
   "source": [
    "from sklearn.metrics import classification_report\n",
    "\n",
    "predictions = model.predict_classes(x_test)"
   ]
  },
  {
   "cell_type": "code",
   "execution_count": 31,
   "metadata": {},
   "outputs": [
    {
     "name": "stdout",
     "output_type": "stream",
     "text": [
      "             precision    recall  f1-score   support\n",
      "\n",
      "          0       0.80      0.59      0.68      1000\n",
      "          1       0.83      0.76      0.80      1000\n",
      "          2       0.44      0.65      0.52      1000\n",
      "          3       0.50      0.40      0.44      1000\n",
      "          4       0.50      0.75      0.60      1000\n",
      "          5       0.52      0.57      0.54      1000\n",
      "          6       0.70      0.74      0.72      1000\n",
      "          7       0.88      0.56      0.69      1000\n",
      "          8       0.82      0.74      0.78      1000\n",
      "          9       0.81      0.68      0.74      1000\n",
      "\n",
      "avg / total       0.68      0.64      0.65     10000\n",
      "\n"
     ]
    }
   ],
   "source": [
    "print(classification_report(y_test,predictions))"
   ]
  },
  {
   "cell_type": "markdown",
   "metadata": {},
   "source": [
    "## Para Casa: Modelo Grande"
   ]
  },
  {
   "cell_type": "code",
   "execution_count": 33,
   "metadata": {},
   "outputs": [],
   "source": [
    "modelofull = Sequential()\n",
    "\n",
    "## Primeiro conjunto de camadas\n",
    "\n",
    "# CAMADA CONVOLUCIONAL\n",
    "modelofull.add(Conv2D(filters=32, kernel_size=(4,4),input_shape=(32, 32, 3), activation='relu',))\n",
    "# CAMADA CONVOLUCIONAL\n",
    "modelofull.add(Conv2D(filters=32, kernel_size=(4,4),input_shape=(32, 32, 3), activation='relu',))\n",
    "\n",
    "# CAMADA DE POOLING\n",
    "modelofull.add(MaxPool2D(pool_size=(2, 2)))\n",
    "\n",
    "## Segundo conjunto de camadas\n",
    "\n",
    "# CAMADA CONVOLUCIONAL\n",
    "modelofull.add(Conv2D(filters=64, kernel_size=(4,4),input_shape=(32, 32, 3), activation='relu',))\n",
    "# CAMADA CONVOLUCIONAL\n",
    "modelofull.add(Conv2D(filters=64, kernel_size=(4,4),input_shape=(32, 32, 3), activation='relu',))\n",
    "\n",
    "# CAMADA DE POOLING\n",
    "modelofull.add(MaxPool2D(pool_size=(2, 2)))\n",
    "\n",
    "# FLATTENNING 28x28 para 764\n",
    "modelofull.add(Flatten())\n",
    "\n",
    "# 512 NEURONS NA CAMADA OCULTA (Experimente alterar)\n",
    "modelofull.add(Dense(512, activation='relu'))\n",
    "\n",
    "# ÚLTIMA CAMADA - CLASSIFICADOR - 10 CLASSES\n",
    "modelofull.add(Dense(10, activation='softmax'))\n",
    "\n",
    "\n",
    "modelofull.compile(loss='categorical_crossentropy',\n",
    "              optimizer='rmsprop',\n",
    "              metrics=['accuracy'])"
   ]
  },
  {
   "cell_type": "code",
   "execution_count": 34,
   "metadata": {},
   "outputs": [
    {
     "name": "stdout",
     "output_type": "stream",
     "text": [
      "Epoch 1/20\n",
      "50000/50000 [==============================] - 7s 148us/step - loss: 1.6025 - acc: 0.4197\n",
      "Epoch 2/20\n",
      "50000/50000 [==============================] - 8s 159us/step - loss: 1.1793 - acc: 0.5849\n",
      "Epoch 3/20\n",
      "50000/50000 [==============================] - 8s 155us/step - loss: 1.0083 - acc: 0.6508\n",
      "Epoch 4/20\n",
      "50000/50000 [==============================] - 8s 156us/step - loss: 0.9479 - acc: 0.6782\n",
      "Epoch 5/20\n",
      "50000/50000 [==============================] - 8s 154us/step - loss: 0.9145 - acc: 0.6952\n",
      "Epoch 6/20\n",
      "50000/50000 [==============================] - 8s 151us/step - loss: 0.9005 - acc: 0.7015\n",
      "Epoch 7/20\n",
      "50000/50000 [==============================] - 8s 151us/step - loss: 0.8867 - acc: 0.7061\n",
      "Epoch 8/20\n",
      "50000/50000 [==============================] - 8s 152us/step - loss: 0.8796 - acc: 0.7121\n",
      "Epoch 9/20\n",
      "50000/50000 [==============================] - 8s 151us/step - loss: 0.8693 - acc: 0.7158\n",
      "Epoch 10/20\n",
      "50000/50000 [==============================] - 8s 151us/step - loss: 0.8591 - acc: 0.7194\n",
      "Epoch 11/20\n",
      "50000/50000 [==============================] - 7s 145us/step - loss: 0.8586 - acc: 0.7235\n",
      "Epoch 12/20\n",
      "50000/50000 [==============================] - 8s 151us/step - loss: 0.8497 - acc: 0.7248\n",
      "Epoch 13/20\n",
      "50000/50000 [==============================] - 7s 148us/step - loss: 0.8462 - acc: 0.7296\n",
      "Epoch 14/20\n",
      "50000/50000 [==============================] - 7s 139us/step - loss: 0.8422 - acc: 0.7263\n",
      "Epoch 15/20\n",
      "50000/50000 [==============================] - 7s 147us/step - loss: 0.8321 - acc: 0.7330\n",
      "Epoch 16/20\n",
      "50000/50000 [==============================] - 7s 143us/step - loss: 0.8154 - acc: 0.7363\n",
      "Epoch 17/20\n",
      "50000/50000 [==============================] - 7s 147us/step - loss: 0.8241 - acc: 0.7353\n",
      "Epoch 18/20\n",
      "50000/50000 [==============================] - 7s 138us/step - loss: 0.8061 - acc: 0.7411\n",
      "Epoch 19/20\n",
      "50000/50000 [==============================] - 7s 140us/step - loss: 0.8120 - acc: 0.7409\n",
      "Epoch 20/20\n",
      "50000/50000 [==============================] - 7s 142us/step - loss: 0.8097 - acc: 0.7437\n"
     ]
    },
    {
     "data": {
      "text/plain": [
       "<keras.callbacks.History at 0x295e6eb3e80>"
      ]
     },
     "execution_count": 34,
     "metadata": {},
     "output_type": "execute_result"
    }
   ],
   "source": [
    "modelofull.fit(x_treina,y_cat_treina,verbose=1,epochs=20)"
   ]
  },
  {
   "cell_type": "code",
   "execution_count": 35,
   "metadata": {},
   "outputs": [
    {
     "name": "stdout",
     "output_type": "stream",
     "text": [
      "10000/10000 [==============================] - 1s 75us/step\n"
     ]
    },
    {
     "data": {
      "text/plain": [
       "[0.9843294318199157, 0.6902]"
      ]
     },
     "execution_count": 35,
     "metadata": {},
     "output_type": "execute_result"
    }
   ],
   "source": [
    "modelofull.evaluate(x_test,y_cat_test)"
   ]
  },
  {
   "cell_type": "code",
   "execution_count": 36,
   "metadata": {},
   "outputs": [],
   "source": [
    "from sklearn.metrics import classification_report\n",
    "\n",
    "predictions = model.predict_classes(x_teste)"
   ]
  },
  {
   "cell_type": "code",
   "execution_count": 37,
   "metadata": {},
   "outputs": [
    {
     "name": "stdout",
     "output_type": "stream",
     "text": [
      "             precision    recall  f1-score   support\n",
      "\n",
      "          0       0.82      0.61      0.70      1000\n",
      "          1       0.77      0.88      0.82      1000\n",
      "          2       0.64      0.57      0.60      1000\n",
      "          3       0.66      0.30      0.41      1000\n",
      "          4       0.66      0.67      0.66      1000\n",
      "          5       0.45      0.81      0.58      1000\n",
      "          6       0.80      0.75      0.77      1000\n",
      "          7       0.76      0.69      0.72      1000\n",
      "          8       0.78      0.81      0.80      1000\n",
      "          9       0.75      0.82      0.79      1000\n",
      "\n",
      "avg / total       0.71      0.69      0.69     10000\n",
      "\n"
     ]
    }
   ],
   "source": [
    "print(classification_report(y_teste,predictions))"
   ]
  },
  {
   "cell_type": "code",
   "execution_count": 38,
   "metadata": {},
   "outputs": [],
   "source": [
    "modelofull.save('CIFAR10_FULL_model.h5')"
   ]
  },
  {
   "cell_type": "markdown",
   "metadata": {},
   "source": [
    "___"
   ]
  }
 ],
 "metadata": {
  "kernelspec": {
   "display_name": "Python 3",
   "language": "python",
   "name": "python3"
  },
  "language_info": {
   "codemirror_mode": {
    "name": "ipython",
    "version": 3
   },
   "file_extension": ".py",
   "mimetype": "text/x-python",
   "name": "python",
   "nbconvert_exporter": "python",
   "pygments_lexer": "ipython3",
   "version": "3.6.8"
  }
 },
 "nbformat": 4,
 "nbformat_minor": 4
}
